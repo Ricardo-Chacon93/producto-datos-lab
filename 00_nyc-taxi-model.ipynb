{
 "cells": [
  {
   "cell_type": "markdown",
   "metadata": {
    "id": "TcH96_iUu5aM"
   },
   "source": [
    "# Clasificador de Propinas para Viajes en Taxi en NYC (2020)\n",
    "\n",
    "Inspirado en la charla [\"Keeping up with Machine Learning in Production\"](https://github.com/shreyashankar/debugging-ml-talk) de [Shreya Shankar](https://twitter.com/sh_reya)\n"
   ]
  },
  {
   "cell_type": "markdown",
   "metadata": {
    "id": "1QPR0Njcv1PU"
   },
   "source": [
    "Este notebook muestra la construcción de un modelo de machine learning de juguete, usando datos de viajes de los taxis amarillos de Nueva York para el año 2020, [proporcionados por la NYC Taxi and Limousine Commission (TLC)](https://www1.nyc.gov/site/tlc/about/tlc-trip-record-data.page). \n",
    "\n",
    "La idea es encontrar aquellos viajes donde la propina dejada por el pasajero fue alta, es decir, mayor al 20% del costo del viaje.\n",
    "\n",
    "Para ello ajustaremos un modelo de classificación binaria RandomForest usando los datos de los viajes de enero de 2020. Probaremos el modelo resultante sobre los datos de los viajes de febrero de 2020. Compararemos el desempeño del modelo en ambos casos usando la métrica de [f1-score](https://en.wikipedia.org/wiki/F-score).\n",
    "\n",
    "**Este notebook está construido para ser ejecutado en [Google Colab](https://colab.research.google.com/), al que podemos acceder de manera gratuita solo teniendo un usuario de Google (Gmail) y un navegador web. No es necesario instalar nada en el computador local.**"
   ]
  },
  {
   "cell_type": "markdown",
   "metadata": {
    "id": "fu0lAPirwwVE"
   },
   "source": [
    "## Cargando las librerías necesarias"
   ]
  },
  {
   "cell_type": "code",
   "execution_count": null,
   "metadata": {
    "executionInfo": {
     "elapsed": 14,
     "status": "ok",
     "timestamp": 1656102934199,
     "user": {
      "displayName": "ALONSO ASTROZA TAGLE",
      "userId": "10910938541244248966"
     },
     "user_tz": 240
    },
    "id": "Ndnq4DCpMSxF"
   },
   "outputs": [
    {
     "ename": "",
     "evalue": "",
     "output_type": "error",
     "traceback": [
      "\u001b[1;31mThe kernel failed to start as a dll could not be loaded.\n",
      "\u001b[1;31mClick <a href='https://aka.ms/kernelFailuresDllLoad'>here</a> for more info."
     ]
    }
   ],
   "source": [
    "import pandas as pd\n",
    "from sklearn.ensemble import RandomForestClassifier\n",
    "from sklearn.metrics import f1_score"
   ]
  },
  {
   "cell_type": "markdown",
   "metadata": {
    "id": "UN6A9kIRxT6S"
   },
   "source": [
    "## Leemos los datos de enero 2020 (entrenamiento)"
   ]
  },
  {
   "cell_type": "code",
   "execution_count": null,
   "metadata": {
    "executionInfo": {
     "elapsed": 5702,
     "status": "ok",
     "timestamp": 1656100260412,
     "user": {
      "displayName": "ALONSO ASTROZA TAGLE",
      "userId": "10910938541244248966"
     },
     "user_tz": 240
    },
    "id": "rOBvAuT_Okw0"
   },
   "outputs": [
    {
     "ename": "",
     "evalue": "",
     "output_type": "error",
     "traceback": [
      "\u001b[1;31mThe kernel failed to start as a dll could not be loaded.\n",
      "\u001b[1;31mClick <a href='https://aka.ms/kernelFailuresDllLoad'>here</a> for more info."
     ]
    }
   ],
   "source": [
    "taxi = pd.read_parquet('https://d37ci6vzurychx.cloudfront.net/trip-data/yellow_tripdata_2020-01.parquet')"
   ]
  },
  {
   "cell_type": "code",
   "execution_count": null,
   "metadata": {
    "colab": {
     "base_uri": "https://localhost:8080/",
     "height": 270
    },
    "executionInfo": {
     "elapsed": 15,
     "status": "ok",
     "timestamp": 1656100270842,
     "user": {
      "displayName": "ALONSO ASTROZA TAGLE",
      "userId": "10910938541244248966"
     },
     "user_tz": 240
    },
    "id": "aDZlCWDKRJvM",
    "outputId": "e25228da-7882-4e01-c820-22d7d280610f"
   },
   "outputs": [
    {
     "ename": "",
     "evalue": "",
     "output_type": "error",
     "traceback": [
      "\u001b[1;31mThe kernel failed to start as a dll could not be loaded.\n",
      "\u001b[1;31mClick <a href='https://aka.ms/kernelFailuresDllLoad'>here</a> for more info."
     ]
    }
   ],
   "source": [
    "taxi.head()"
   ]
  },
  {
   "cell_type": "code",
   "execution_count": null,
   "metadata": {
    "colab": {
     "base_uri": "https://localhost:8080/"
    },
    "executionInfo": {
     "elapsed": 5,
     "status": "ok",
     "timestamp": 1656100393755,
     "user": {
      "displayName": "ALONSO ASTROZA TAGLE",
      "userId": "10910938541244248966"
     },
     "user_tz": 240
    },
    "id": "JY_e-oCwRn25",
    "outputId": "4e629de5-a4f4-49a2-e1db-b0743ace5272"
   },
   "outputs": [
    {
     "ename": "",
     "evalue": "",
     "output_type": "error",
     "traceback": [
      "\u001b[1;31mThe kernel failed to start as a dll could not be loaded.\n",
      "\u001b[1;31mClick <a href='https://aka.ms/kernelFailuresDllLoad'>here</a> for more info."
     ]
    }
   ],
   "source": [
    "taxi.columns"
   ]
  },
  {
   "cell_type": "markdown",
   "metadata": {
    "id": "ABVgggM5xZA6"
   },
   "source": [
    "## Definimos las características con las que realizaremos la clasificación. \n",
    "\n",
    "Las construiremos a continuación en la etapa de pre-procesamiento de los datos."
   ]
  },
  {
   "cell_type": "code",
   "execution_count": null,
   "metadata": {
    "executionInfo": {
     "elapsed": 271,
     "status": "ok",
     "timestamp": 1656100581703,
     "user": {
      "displayName": "ALONSO ASTROZA TAGLE",
      "userId": "10910938541244248966"
     },
     "user_tz": 240
    },
    "id": "lHGwTvbNSMCc"
   },
   "outputs": [
    {
     "ename": "",
     "evalue": "",
     "output_type": "error",
     "traceback": [
      "\u001b[1;31mThe kernel failed to start as a dll could not be loaded.\n",
      "\u001b[1;31mClick <a href='https://aka.ms/kernelFailuresDllLoad'>here</a> for more info."
     ]
    }
   ],
   "source": [
    "numeric_feat = [\n",
    "    \"pickup_weekday\",\n",
    "    \"pickup_hour\",\n",
    "    'work_hours',\n",
    "    \"pickup_minute\",\n",
    "    \"passenger_count\",\n",
    "    'trip_distance',\n",
    "    'trip_time',\n",
    "    'trip_speed'\n",
    "]\n",
    "categorical_feat = [\n",
    "    \"PULocationID\",\n",
    "    \"DOLocationID\",\n",
    "    \"RatecodeID\",\n",
    "]\n",
    "features = numeric_feat + categorical_feat\n",
    "EPS = 1e-7"
   ]
  },
  {
   "cell_type": "code",
   "execution_count": null,
   "metadata": {
    "executionInfo": {
     "elapsed": 253,
     "status": "ok",
     "timestamp": 1656100797754,
     "user": {
      "displayName": "ALONSO ASTROZA TAGLE",
      "userId": "10910938541244248966"
     },
     "user_tz": 240
    },
    "id": "Ohh4oSUIR7o1"
   },
   "outputs": [
    {
     "ename": "",
     "evalue": "",
     "output_type": "error",
     "traceback": [
      "\u001b[1;31mThe kernel failed to start as a dll could not be loaded.\n",
      "\u001b[1;31mClick <a href='https://aka.ms/kernelFailuresDllLoad'>here</a> for more info."
     ]
    }
   ],
   "source": [
    "def preprocess(df, target_col):\n",
    "\n",
    "   # Basic cleaning\n",
    "    df = df[df['fare_amount'] > 0].reset_index(drop=True)  # avoid divide-by-zero\n",
    "    # add target\n",
    "    df['tip_fraction'] = df['tip_amount'] / df['fare_amount']\n",
    "    df[target_col] = df['tip_fraction'] > 0.2\n",
    "\n",
    "    # add features\n",
    "    df['pickup_weekday'] = df['tpep_pickup_datetime'].dt.weekday\n",
    "    df['pickup_hour'] = df['tpep_pickup_datetime'].dt.hour\n",
    "    df['pickup_minute'] = df['tpep_pickup_datetime'].dt.minute\n",
    "    df['work_hours'] = (df['pickup_weekday'] >= 0) & (df['pickup_weekday'] <= 4) & (df['pickup_hour'] >= 8) & (df['pickup_hour'] <= 18)\n",
    "    df['trip_time'] = (df['tpep_dropoff_datetime'] - df['tpep_pickup_datetime']).dt.seconds\n",
    "    df['trip_speed'] = df['trip_distance'] / (df['trip_time'] + EPS)\n",
    "\n",
    "    # drop unused columns\n",
    "    df = df[['tpep_dropoff_datetime'] + features + [target_col]]\n",
    "    df[features + [target_col]] = df[features + [target_col]].astype(\"float32\").fillna(-1.0)\n",
    "\n",
    "    # convert target to int32 for efficiency (it's just 0s and 1s)\n",
    "    df[target_col] = df[target_col].astype(\"int32\")\n",
    "\n",
    "    return df.reset_index(drop=True)\n"
   ]
  },
  {
   "cell_type": "code",
   "execution_count": null,
   "metadata": {
    "executionInfo": {
     "elapsed": 7208,
     "status": "ok",
     "timestamp": 1656100808760,
     "user": {
      "displayName": "ALONSO ASTROZA TAGLE",
      "userId": "10910938541244248966"
     },
     "user_tz": 240
    },
    "id": "bdB5sLXERLBs"
   },
   "outputs": [
    {
     "ename": "",
     "evalue": "",
     "output_type": "error",
     "traceback": [
      "\u001b[1;31mThe kernel failed to start as a dll could not be loaded.\n",
      "\u001b[1;31mClick <a href='https://aka.ms/kernelFailuresDllLoad'>here</a> for more info."
     ]
    }
   ],
   "source": [
    "target_col = \"high_tip\"\n",
    "\n",
    "taxi_train = preprocess(df=taxi, target_col=target_col)"
   ]
  },
  {
   "cell_type": "code",
   "execution_count": null,
   "metadata": {
    "colab": {
     "base_uri": "https://localhost:8080/"
    },
    "executionInfo": {
     "elapsed": 266,
     "status": "ok",
     "timestamp": 1656100865817,
     "user": {
      "displayName": "ALONSO ASTROZA TAGLE",
      "userId": "10910938541244248966"
     },
     "user_tz": 240
    },
    "id": "lcDlgUfGSala",
    "outputId": "bc80cfea-d30b-4720-871d-543d253e6f81"
   },
   "outputs": [
    {
     "ename": "",
     "evalue": "",
     "output_type": "error",
     "traceback": [
      "\u001b[1;31mThe kernel failed to start as a dll could not be loaded.\n",
      "\u001b[1;31mClick <a href='https://aka.ms/kernelFailuresDllLoad'>here</a> for more info."
     ]
    }
   ],
   "source": [
    "print(f'Num rows: {len(taxi_train)}, Size: {taxi_train.memory_usage(deep=True).sum() / 1e9} GB')"
   ]
  },
  {
   "cell_type": "markdown",
   "metadata": {
    "id": "NYRUt7zvxpZ9"
   },
   "source": [
    "## Ajustamos el modelo con los datos de entrenamiento\n",
    "\n",
    "Este proceso se puede demorar bastante (¡en mi caso fueron 30 minutos!), pero podemos realizar una prueba mas pequeña reduciendo la cantidad de ejemplos de entrenamiento. Por ejemplo podríamos agregar la siguiente celda: \n",
    "\n",
    "`taxi_train = taxi_train.head(100000)`"
   ]
  },
  {
   "cell_type": "code",
   "execution_count": null,
   "metadata": {
    "colab": {
     "base_uri": "https://localhost:8080/",
     "height": 398
    },
    "executionInfo": {
     "elapsed": 28167,
     "status": "error",
     "timestamp": 1656108948065,
     "user": {
      "displayName": "ALONSO ASTROZA TAGLE",
      "userId": "10910938541244248966"
     },
     "user_tz": 240
    },
    "id": "xamM8zyVTrKB",
    "outputId": "051cb96b-56e1-4f98-9ab3-5bd844deb38c"
   },
   "outputs": [
    {
     "ename": "",
     "evalue": "",
     "output_type": "error",
     "traceback": [
      "\u001b[1;31mThe kernel failed to start as a dll could not be loaded.\n",
      "\u001b[1;31mClick <a href='https://aka.ms/kernelFailuresDllLoad'>here</a> for more info."
     ]
    }
   ],
   "source": [
    "%%time\n",
    "\n",
    "rfc = RandomForestClassifier(n_estimators=100, max_depth=10)\n",
    "\n",
    "rfc.fit(taxi_train[features], taxi_train[target_col])"
   ]
  },
  {
   "cell_type": "markdown",
   "metadata": {
    "id": "EKZl34l6yhir"
   },
   "source": [
    "## Calculamos la métrica f1-score en el conjunto de entrenamiento"
   ]
  },
  {
   "cell_type": "code",
   "execution_count": null,
   "metadata": {
    "colab": {
     "base_uri": "https://localhost:8080/"
    },
    "executionInfo": {
     "elapsed": 62121,
     "status": "ok",
     "timestamp": 1656107082292,
     "user": {
      "displayName": "ALONSO ASTROZA TAGLE",
      "userId": "10910938541244248966"
     },
     "user_tz": 240
    },
    "id": "Tz4md0ZoUgEH",
    "outputId": "b07f652c-c15e-4ee9-dbdf-93dd4f8ef10b"
   },
   "outputs": [
    {
     "ename": "",
     "evalue": "",
     "output_type": "error",
     "traceback": [
      "\u001b[1;31mThe kernel failed to start as a dll could not be loaded.\n",
      "\u001b[1;31mClick <a href='https://aka.ms/kernelFailuresDllLoad'>here</a> for more info."
     ]
    }
   ],
   "source": [
    "%%time\n",
    "# Compute F1 \n",
    "\n",
    "preds = rfc.predict_proba(taxi_train[features])"
   ]
  },
  {
   "cell_type": "code",
   "execution_count": null,
   "metadata": {
    "executionInfo": {
     "elapsed": 2203,
     "status": "ok",
     "timestamp": 1656107174007,
     "user": {
      "displayName": "ALONSO ASTROZA TAGLE",
      "userId": "10910938541244248966"
     },
     "user_tz": 240
    },
    "id": "3Aw7dZxNrA0g"
   },
   "outputs": [
    {
     "ename": "",
     "evalue": "",
     "output_type": "error",
     "traceback": [
      "\u001b[1;31mThe kernel failed to start as a dll could not be loaded.\n",
      "\u001b[1;31mClick <a href='https://aka.ms/kernelFailuresDllLoad'>here</a> for more info."
     ]
    }
   ],
   "source": [
    "preds_labels = [p[1] for p in preds.round()]"
   ]
  },
  {
   "cell_type": "code",
   "execution_count": null,
   "metadata": {
    "colab": {
     "base_uri": "https://localhost:8080/"
    },
    "executionInfo": {
     "elapsed": 6068,
     "status": "ok",
     "timestamp": 1656107207597,
     "user": {
      "displayName": "ALONSO ASTROZA TAGLE",
      "userId": "10910938541244248966"
     },
     "user_tz": 240
    },
    "id": "N2g9Cj-FqweQ",
    "outputId": "9cc9ced6-e298-41da-daa2-a9d73b67d89d"
   },
   "outputs": [
    {
     "ename": "",
     "evalue": "",
     "output_type": "error",
     "traceback": [
      "\u001b[1;31mThe kernel failed to start as a dll could not be loaded.\n",
      "\u001b[1;31mClick <a href='https://aka.ms/kernelFailuresDllLoad'>here</a> for more info."
     ]
    }
   ],
   "source": [
    "print(f'F1: {f1_score(taxi_train[target_col], preds_labels)}')"
   ]
  },
  {
   "cell_type": "markdown",
   "metadata": {
    "id": "aUeQx00_yojo"
   },
   "source": [
    "## Exportamos el modelo a un archivo"
   ]
  },
  {
   "cell_type": "code",
   "execution_count": null,
   "metadata": {
    "colab": {
     "base_uri": "https://localhost:8080/"
    },
    "executionInfo": {
     "elapsed": 959,
     "status": "ok",
     "timestamp": 1656106795519,
     "user": {
      "displayName": "ALONSO ASTROZA TAGLE",
      "userId": "10910938541244248966"
     },
     "user_tz": 240
    },
    "id": "DK2cCa7mVUNa",
    "outputId": "412a91be-b843-4fd7-9798-eb47f880f556"
   },
   "outputs": [
    {
     "ename": "",
     "evalue": "",
     "output_type": "error",
     "traceback": [
      "\u001b[1;31mThe kernel failed to start as a dll could not be loaded.\n",
      "\u001b[1;31mClick <a href='https://aka.ms/kernelFailuresDllLoad'>here</a> for more info."
     ]
    }
   ],
   "source": [
    "import joblib\n",
    "\n",
    "joblib.dump(rfc, \"./random_forest.joblib\")"
   ]
  },
  {
   "cell_type": "markdown",
   "metadata": {
    "id": "UCvtlNopyrfT"
   },
   "source": [
    "El archivo aparecerá en el menú del lado izquierdo, como se muestra en la foto. Podemos guardarlo en nuestro equipo usando boton derecho -> Download. Será útil hacerlo porque lo seguiremos usando en el futuro.\n",
    "\n",
    "![CapturaCOLAB.JPG](data:image/jpeg;base64,/9j/4AAQSkZJRgABAQEAeAB4AAD/4REKRXhpZgAATU0AKgAAAAgABAE7AAIAAAAVAAAISodpAAQAAAABAAAIYJydAAEAAAAqAAAQ2OocAAcAAAgMAAAAPgAAAAAc6gAAAAgAAAAAAAAAAAAAAAAAAAAAAAAAAAAAAAAAAAAAAAAAAAAAAAAAAAAAAAAAAAAAAAAAAAAAAAAAAAAAAAAAAAAAAAAAAAAAAAAAAAAAAAAAAAAAAAAAAAAAAAAAAAAAAAAAAAAAAAAAAAAAAAAAAAAAAAAAAAAAAAAAAAAAAAAAAAAAAAAAAAAAAAAAAAAAAAAAAAAAAAAAAAAAAAAAAAAAAAAAAAAAAAAAAAAAAAAAAAAAAAAAAAAAAAAAAAAAAAAAAAAAAAAAAAAAAAAAAAAAAAAAAAAAAAAAAAAAAAAAAAAAAAAAAAAAAAAAAAAAAAAAAAAAAAAAAAAAAAAAAAAAAAAAAAAAAAAAAAAAAAAAAAAAAAAAAAAAAAAAAAAAAAAAAAAAAAAAAAAAAAAAAAAAAAAAAAAAAAAAAAAAAAAAAAAAAAAAAAAAAAAAAAAAAAAAAAAAAAAAAAAAAAAAAAAAAAAAAAAAAAAAAAAAAAAAAAAAAAAAAAAAAAAAAAAAAAAAAAAAAAAAAAAAAAAAAAAAAAAAAAAAAAAAAAAAAAAAAAAAAAAAAAAAAAAAAAAAAAAAAAAAAAAAAAAAAAAAAAAAAAAAAAAAAAAAAAAAAAAAAAAAAAAAAAAAAAAAAAAAAAAAAAAAAAAAAAAAAAAAAAAAAAAAAAAAAAAAAAAAAAAAAAAAAAAAAAAAAAAAAAAAAAAAAAAAAAAAAAAAAAAAAAAAAAAAAAAAAAAAAAAAAAAAAAAAAAAAAAAAAAAAAAAAAAAAAAAAAAAAAAAAAAAAAAAAAAAAAAAAAAAAAAAAAAAAAAAAAAAAAAAAAAAAAAAAAAAAAAAAAAAAAAAAAAAAAAAAAAAAAAAAAAAAAAAAAAAAAAAAAAAAAAAAAAAAAAAAAAAAAAAAAAAAAAAAAAAAAAAAAAAAAAAAAAAAAAAAAAAAAAAAAAAAAAAAAAAAAAAAAAAAAAAAAAAAAAAAAAAAAAAAAAAAAAAAAAAAAAAAAAAAAAAAAAAAAAAAAAAAAAAAAAAAAAAAAAAAAAAAAAAAAAAAAAAAAAAAAAAAAAAAAAAAAAAAAAAAAAAAAAAAAAAAAAAAAAAAAAAAAAAAAAAAAAAAAAAAAAAAAAAAAAAAAAAAAAAAAAAAAAAAAAAAAAAAAAAAAAAAAAAAAAAAAAAAAAAAAAAAAAAAAAAAAAAAAAAAAAAAAAAAAAAAAAAAAAAAAAAAAAAAAAAAAAAAAAAAAAAAAAAAAAAAAAAAAAAAAAAAAAAAAAAAAAAAAAAAAAAAAAAAAAAAAAAAAAAAAAAAAAAAAAAAAAAAAAAAAAAAAAAAAAAAAAAAAAAAAAAAAAAAAAAAAAAAAAAAAAAAAAAAAAAAAAAAAAAAAAAAAAAAAAAAAAAAAAAAAAAAAAAAAAAAAAAAAAAAAAAAAAAAAAAAAAAAAAAAAAAAAAAAAAAAAAAAAAAAAAAAAAAAAAAAAAAAAAAAAAAAAAAAAAAAAAAAAAAAAAAAAAAAAAAAAAAAAAAAAAAAAAAAAAAAAAAAAAAAAAAAAAAAAAAAAAAAAAAAAAAAAAAAAAAAAAAAAAAAAAAAAAAAAAAAAAAAAAAAAAAAAAAAAAAAAAAAAAAAAAAAAAAAAAAAAAAAAAAAAAAAAAAAAAAAAAAAAAAAAAAAAAAAAAAAAAAAAAAAAAAAAAAAAAAAAAAAAAAAAAAAAAAAAAAAAAAAAAAAAAAAAAAAAAAAAAAAAAAAAAAAAAAAAAAAAAAAAAAAAAAAAAAAAAAAAAAAAAAAAAAAAAAAAAAAAAAAAAAAAAAAAAAAAAAAAAAAAAAAAAAAAAAAAAAAAAAAAAAAAAAAAAAAAAAAAAAAAAAAAAAAAAAAAAAAAAAAAAAAAAAAAAAAAAAAAAAAAAAAAAAAAAAAAAAAAAAAAAAAAAAAAAAAAAAAAAAAAAAAAAAAAAAAAAAAAAAAAAAAAAAAAAAAAAAAAAAAAAAAAAAAAAAAAAAAAAAAAAAAAAAAAAAAAAAAAAAAAAAAAAAAAAAAAAAAAAAAAAAAAAAAAAAAAAAAAAAAAAAAAAAAAAAAAAAAAAAAAAAAAAAAAAAAAAAAAAAAAAAAAAAAAAAAAAAAAAAAAAAAAAAAAAAAAAAAAAAAAAAAAAAAAAAAAAAAAAAAAAAAAAAAAAAAAAAAAAAAAAAAAAAAAAAAAAAAAAAAAAAAAAAAAAAAAAAAAAAAAAAAAAAAAAAAAAAAAAAAAAAAAAAAAAAAAAAAAAAAAAAAAAAAAAAAAAAAAAAAAAAAAAAAAAAAAAAAAAAAAAAAAAAAAAAAAAAAAAAAAAAAAAAAAAAAAAAAAAAAAAAAAAAAAAAAAAAAAAAAAAAAAAAAAAAAAAAAAAAAAAAAAAAAAAAAAAAAAAAAAAAAAAAAAAAAAAAAAAAAAAAAAAAAAAAAAAAAAAAAAAAAAAAAAAAAAAAAAAAAAAAAAAAAAAAAAAAAAAAAAAAAAAAAAAAAAAAAAAAAAAAAAAAAAAAAAAAAAAAAAAAAAAAAAAAAAAAAAAAAAAAAAAAAAAAAAAAAAAAAAAAAAAAAAAAAAAAAAAAAAAAAAAAAAAAAAAAAAAAAAAAAAAAAAAAAAAAAAAAAAAAAAAAAAAAAAAAAAAAAAAAAAAAAAAAAAAAAAAAAAAAAAAAAAAAAAAAAAAAAAAAAAAAAAAAAAAAAAAAAAAAAAAAAAAAAAAAAAAAAAAAAAAAAAAAAAAAAAAAAAAAAAAAAAEFsb25zbyBBc3Ryb3phIFRhZ2xlAAAABZADAAIAAAAUAAAQrpAEAAIAAAAUAAAQwpKRAAIAAAADNjQAAJKSAAIAAAADNjQAAOocAAcAAAgMAAAIogAAAAAc6gAAAAgAAAAAAAAAAAAAAAAAAAAAAAAAAAAAAAAAAAAAAAAAAAAAAAAAAAAAAAAAAAAAAAAAAAAAAAAAAAAAAAAAAAAAAAAAAAAAAAAAAAAAAAAAAAAAAAAAAAAAAAAAAAAAAAAAAAAAAAAAAAAAAAAAAAAAAAAAAAAAAAAAAAAAAAAAAAAAAAAAAAAAAAAAAAAAAAAAAAAAAAAAAAAAAAAAAAAAAAAAAAAAAAAAAAAAAAAAAAAAAAAAAAAAAAAAAAAAAAAAAAAAAAAAAAAAAAAAAAAAAAAAAAAAAAAAAAAAAAAAAAAAAAAAAAAAAAAAAAAAAAAAAAAAAAAAAAAAAAAAAAAAAAAAAAAAAAAAAAAAAAAAAAAAAAAAAAAAAAAAAAAAAAAAAAAAAAAAAAAAAAAAAAAAAAAAAAAAAAAAAAAAAAAAAAAAAAAAAAAAAAAAAAAAAAAAAAAAAAAAAAAAAAAAAAAAAAAAAAAAAAAAAAAAAAAAAAAAAAAAAAAAAAAAAAAAAAAAAAAAAAAAAAAAAAAAAAAAAAAAAAAAAAAAAAAAAAAAAAAAAAAAAAAAAAAAAAAAAAAAAAAAAAAAAAAAAAAAAAAAAAAAAAAAAAAAAAAAAAAAAAAAAAAAAAAAAAAAAAAAAAAAAAAAAAAAAAAAAAAAAAAAAAAAAAAAAAAAAAAAAAAAAAAAAAAAAAAAAAAAAAAAAAAAAAAAAAAAAAAAAAAAAAAAAAAAAAAAAAAAAAAAAAAAAAAAAAAAAAAAAAAAAAAAAAAAAAAAAAAAAAAAAAAAAAAAAAAAAAAAAAAAAAAAAAAAAAAAAAAAAAAAAAAAAAAAAAAAAAAAAAAAAAAAAAAAAAAAAAAAAAAAAAAAAAAAAAAAAAAAAAAAAAAAAAAAAAAAAAAAAAAAAAAAAAAAAAAAAAAAAAAAAAAAAAAAAAAAAAAAAAAAAAAAAAAAAAAAAAAAAAAAAAAAAAAAAAAAAAAAAAAAAAAAAAAAAAAAAAAAAAAAAAAAAAAAAAAAAAAAAAAAAAAAAAAAAAAAAAAAAAAAAAAAAAAAAAAAAAAAAAAAAAAAAAAAAAAAAAAAAAAAAAAAAAAAAAAAAAAAAAAAAAAAAAAAAAAAAAAAAAAAAAAAAAAAAAAAAAAAAAAAAAAAAAAAAAAAAAAAAAAAAAAAAAAAAAAAAAAAAAAAAAAAAAAAAAAAAAAAAAAAAAAAAAAAAAAAAAAAAAAAAAAAAAAAAAAAAAAAAAAAAAAAAAAAAAAAAAAAAAAAAAAAAAAAAAAAAAAAAAAAAAAAAAAAAAAAAAAAAAAAAAAAAAAAAAAAAAAAAAAAAAAAAAAAAAAAAAAAAAAAAAAAAAAAAAAAAAAAAAAAAAAAAAAAAAAAAAAAAAAAAAAAAAAAAAAAAAAAAAAAAAAAAAAAAAAAAAAAAAAAAAAAAAAAAAAAAAAAAAAAAAAAAAAAAAAAAAAAAAAAAAAAAAAAAAAAAAAAAAAAAAAAAAAAAAAAAAAAAAAAAAAAAAAAAAAAAAAAAAAAAAAAAAAAAAAAAAAAAAAAAAAAAAAAAAAAAAAAAAAAAAAAAAAAAAAAAAAAAAAAAAAAAAAAAAAAAAAAAAAAAAAAAAAAAAAAAAAAAAAAAAAAAAAAAAAAAAAAAAAAAAAAAAAAAAAAAAAAAAAAAAAAAAAAAAAAAAAAAAAAAAAAAAAAAAAAAAAAAAAAAAAAAAAAAAAAAAAAAAAAAAAAAAAAAAAAAAAAAAAAAAAAAAAAAAAAAAAAAAAAAAAAAAAAAAAAAAAAAAAAAAAAAAAAAAAAAAAAAAAAAAAAAAAAAAAAAAAAAAAAAAAAAAAAAAAAAAAAAAAAAAAAAAAAAAAAAAAAAAAAAAAAAAAAAAAAAAAAAAAAAAAAAAAAAAAAAAAAAAAAAAAAAAAAAAAAAAAAAAAAAAAAAAAAAAAAAAAAAAAAAAAAAAAAAAAAAAAAAAAAAAAAAAAAAAAAAAAAAAAAAAAAAAAAAAAAAAAAAAAAAAAAAAAAAAAAAAAAAAAAAAAAAAAAAAAAAAAAAAAAAAAAAAAAAAAAAAAAAAAAAAAAAAAAAAAAAAAAAAAAAAAAAAAAAAAAAAAAAAAAAAAAAAAAAAAAAAAAAAAAAAAAAAAAAAAAAAAAAAAAAAAAAAAAAAAAAAAAAAAAAAAAAAAAAAAAAAAAAAAAAAAAAAAAAAAAAAAAAAAAAAAAAAAAAAAAAAAAAAAAAAAAAAAAAAAAAAAAAAAAAAAAAAAAAAAAAAAAAAAAAAAAAAAAAAAAAAAAAAAAAAAAAAAAAAAAAAAAAAAAAAAAAAAAAAAAAAAAAAAAAAAAAAAAAAAAAAAAAAAAAAAAAAAAAAAAAAAAAAAAAAAAAAAAAAAAAAAAAAAAAAAAAAAAAAAAAAAAAAAAAAAAAAAAAAAAAAAAAAAAAAAAAAAAAAAAAAAAAAAAAAAAAAAAAAAAAAAAAAAAAAAAAAAAAAAAAAAAAAAAAAAAAAAAAAAAAAAAAAAAAAAAAAAAAAAAAAAAAAAAAAAAAAAAAAAAAAAAAAAAAAAAAAAAAAAAAAAAAAAAAAAAAAAAAAAAAAAAAAAAAAAAAAAAAAAAAAAAAAAAAAAAAAAAAAAAAAAAAAAAAAAAAAAAAAAAAAAAAAAAAAAAAAAAAAAAAAAAAAAAAAAAAAAAAAAAAAAAAAAAAAAAAAAAAAAAAAAAAAAAAAAAAAAAAAAAAAAAAAAAAAAAAAAAAAAAAAAAADIwMjI6MDY6MjQgMTg6MTc6NTMAMjAyMjowNjoyNCAxODoxNzo1MwAAAEEAbABvAG4AcwBvACAAQQBzAHQAcgBvAHoAYQAgAFQAYQBnAGwAZQAAAP/hCydodHRwOi8vbnMuYWRvYmUuY29tL3hhcC8xLjAvADw/eHBhY2tldCBiZWdpbj0n77u/JyBpZD0nVzVNME1wQ2VoaUh6cmVTek5UY3prYzlkJz8+DQo8eDp4bXBtZXRhIHhtbG5zOng9ImFkb2JlOm5zOm1ldGEvIj48cmRmOlJERiB4bWxuczpyZGY9Imh0dHA6Ly93d3cudzMub3JnLzE5OTkvMDIvMjItcmRmLXN5bnRheC1ucyMiPjxyZGY6RGVzY3JpcHRpb24gcmRmOmFib3V0PSJ1dWlkOmZhZjViZGQ1LWJhM2QtMTFkYS1hZDMxLWQzM2Q3NTE4MmYxYiIgeG1sbnM6ZGM9Imh0dHA6Ly9wdXJsLm9yZy9kYy9lbGVtZW50cy8xLjEvIi8+PHJkZjpEZXNjcmlwdGlvbiByZGY6YWJvdXQ9InV1aWQ6ZmFmNWJkZDUtYmEzZC0xMWRhLWFkMzEtZDMzZDc1MTgyZjFiIiB4bWxuczp4bXA9Imh0dHA6Ly9ucy5hZG9iZS5jb20veGFwLzEuMC8iPjx4bXA6Q3JlYXRlRGF0ZT4yMDIyLTA2LTI0VDE4OjE3OjUzLjY0MzwveG1wOkNyZWF0ZURhdGU+PC9yZGY6RGVzY3JpcHRpb24+PHJkZjpEZXNjcmlwdGlvbiByZGY6YWJvdXQ9InV1aWQ6ZmFmNWJkZDUtYmEzZC0xMWRhLWFkMzEtZDMzZDc1MTgyZjFiIiB4bWxuczpkYz0iaHR0cDovL3B1cmwub3JnL2RjL2VsZW1lbnRzLzEuMS8iPjxkYzpjcmVhdG9yPjxyZGY6U2VxIHhtbG5zOnJkZj0iaHR0cDovL3d3dy53My5vcmcvMTk5OS8wMi8yMi1yZGYtc3ludGF4LW5zIyI+PHJkZjpsaT5BbG9uc28gQXN0cm96YSBUYWdsZTwvcmRmOmxpPjwvcmRmOlNlcT4NCgkJCTwvZGM6Y3JlYXRvcj48L3JkZjpEZXNjcmlwdGlvbj48L3JkZjpSREY+PC94OnhtcG1ldGE+DQogICAgICAgICAgICAgICAgICAgICAgICAgICAgICAgICAgICAgICAgICAgICAgICAgICAgICAgICAgICAgICAgICAgICAgICAgICAgICAgICAgICAgICAgICAgICAgICAgICAgCiAgICAgICAgICAgICAgICAgICAgICAgICAgICAgICAgICAgICAgICAgICAgICAgICAgICAgICAgICAgICAgICAgICAgICAgICAgICAgICAgICAgICAgICAgICAgICAgICAgICAKICAgICAgICAgICAgICAgICAgICAgICAgICAgICAgICAgICAgICAgICAgICAgICAgICAgICAgICAgICAgICAgICAgICAgICAgICAgICAgICAgICAgICAgICAgICAgICAgICAgIAogICAgICAgICAgICAgICAgICAgICAgICAgICAgICAgICAgICAgICAgICAgICAgICAgICAgICAgICAgICAgICAgICAgICAgICAgICAgICAgICAgICAgICAgICAgICAgICAgICAgCiAgICAgICAgICAgICAgICAgICAgICAgICAgICAgICAgICAgICAgICAgICAgICAgICAgICAgICAgICAgICAgICAgICAgICAgICAgICAgICAgICAgICAgICAgICAgICAgICAgICAKICAgICAgICAgICAgICAgICAgICAgICAgICAgICAgICAgICAgICAgICAgICAgICAgICAgICAgICAgICAgICAgICAgICAgICAgICAgICAgICAgICAgICAgICAgICAgICAgICAgIAogICAgICAgICAgICAgICAgICAgICAgICAgICAgICAgICAgICAgICAgICAgICAgICAgICAgICAgICAgICAgICAgICAgICAgICAgICAgICAgICAgICAgICAgICAgICAgICAgICAgCiAgICAgICAgICAgICAgICAgICAgICAgICAgICAgICAgICAgICAgICAgICAgICAgICAgICAgICAgICAgICAgICAgICAgICAgICAgICAgICAgICAgICAgICAgICAgICAgICAgICAKICAgICAgICAgICAgICAgICAgICAgICAgICAgICAgICAgICAgICAgICAgICAgICAgICAgICAgICAgICAgICAgICAgICAgICAgICAgICAgICAgICAgICAgICAgICAgICAgICAgIAogICAgICAgICAgICAgICAgICAgICAgICAgICAgICAgICAgICAgICAgICAgICAgICAgICAgICAgICAgICAgICAgICAgICAgICAgICAgICAgICAgICAgICAgICAgICAgICAgICAgCiAgICAgICAgICAgICAgICAgICAgICAgICAgICAgICAgICAgICAgICAgICAgICAgICAgICAgICAgICAgICAgICAgICAgICAgICAgICAgICAgICAgICAgICAgICAgICAgICAgICAKICAgICAgICAgICAgICAgICAgICAgICAgICAgICAgICAgICAgICAgICAgICAgICAgICAgICAgICAgICAgICAgICAgICAgICAgICAgICAgICAgICAgICAgICAgICAgICAgICAgIAogICAgICAgICAgICAgICAgICAgICAgICAgICAgICAgICAgICAgICAgICAgICAgICAgICAgICAgICAgICAgICAgICAgICAgICAgICAgICAgICAgICAgICAgICAgICAgICAgICAgCiAgICAgICAgICAgICAgICAgICAgICAgICAgICAgICAgICAgICAgICAgICAgICAgICAgICAgICAgICAgICAgICAgICAgICAgICAgICAgICAgICAgICAgICAgICAgICAgICAgICAKICAgICAgICAgICAgICAgICAgICAgICAgICAgICAgICAgICAgICAgICAgICAgICAgICAgICAgICAgICAgICAgICAgICAgICAgICAgICAgICAgICAgICAgICAgICAgICAgICAgIAogICAgICAgICAgICAgICAgICAgICAgICAgICAgICAgICAgICAgICAgICAgICAgICAgICAgICAgICAgICAgICAgICAgICAgICAgICAgICAgICAgICAgICAgICAgICAgICAgICAgCiAgICAgICAgICAgICAgICAgICAgICAgICAgICAgICAgICAgICAgICAgICAgICAgICAgICAgICAgICAgICAgICAgICAgICAgICAgICAgICAgICAgICAgICAgICAgICAgICAgICAKICAgICAgICAgICAgICAgICAgICAgICAgICAgICAgICAgICAgICAgICAgICAgICAgICAgICAgICAgICAgICAgICAgICAgICAgICAgICAgICAgICAgICAgICAgICAgICAgICAgIAogICAgICAgICAgICAgICAgICAgICAgICAgICAgICAgICAgICAgICAgICAgICAgICAgICAgICAgICAgICAgICAgICAgICAgICAgICAgICAgICAgICAgICAgICAgICAgICAgICAgCiAgICAgICAgICAgICAgICAgICAgICAgICAgICAgICAgICAgICAgICAgICAgICAgICAgICAgICAgICAgICAgICAgICAgICAgICAgICAgICAgICAgICAgICAgICAgICAgICAgICAKICAgICAgICAgICAgICAgICAgICAgICAgICAgIDw/eHBhY2tldCBlbmQ9J3cnPz7/2wBDAAcFBQYFBAcGBQYIBwcIChELCgkJChUPEAwRGBUaGRgVGBcbHichGx0lHRcYIi4iJSgpKywrGiAvMy8qMicqKyr/2wBDAQcICAoJChQLCxQqHBgcKioqKioqKioqKioqKioqKioqKioqKioqKioqKioqKioqKioqKioqKioqKioqKioqKir/wAARCAD3ARwDASIAAhEBAxEB/8QAHwAAAQUBAQEBAQEAAAAAAAAAAAECAwQFBgcICQoL/8QAtRAAAgEDAwIEAwUFBAQAAAF9AQIDAAQRBRIhMUEGE1FhByJxFDKBkaEII0KxwRVS0fAkM2JyggkKFhcYGRolJicoKSo0NTY3ODk6Q0RFRkdISUpTVFVWV1hZWmNkZWZnaGlqc3R1dnd4eXqDhIWGh4iJipKTlJWWl5iZmqKjpKWmp6ipqrKztLW2t7i5usLDxMXGx8jJytLT1NXW19jZ2uHi4+Tl5ufo6erx8vP09fb3+Pn6/8QAHwEAAwEBAQEBAQEBAQAAAAAAAAECAwQFBgcICQoL/8QAtREAAgECBAQDBAcFBAQAAQJ3AAECAxEEBSExBhJBUQdhcRMiMoEIFEKRobHBCSMzUvAVYnLRChYkNOEl8RcYGRomJygpKjU2Nzg5OkNERUZHSElKU1RVVldYWVpjZGVmZ2hpanN0dXZ3eHl6goOEhYaHiImKkpOUlZaXmJmaoqOkpaanqKmqsrO0tba3uLm6wsPExcbHyMnK0tPU1dbX2Nna4uPk5ebn6Onq8vP09fb3+Pn6/9oADAMBAAIRAxEAPwD6RooooAKKKKACiiigAooooAKKKKACiiigAooooAKKKKACiiigAooooAKKKKACiiigAoorP1+eS18N6nPAxSWK0ldGHUEISDQBoUV5r4a+HWh6z4ZsNRv2vJLm6hEsrfaDyx6msnx78PItK021k8MWWoXU7zFZBGXmIXB7Acc0AewUV8ypp/iLRJ4r6ax1KxWORf30kMkag56ZIHWvpqgAopk6PJbyJDKYZGQhJAoOw44ODwcVwPh/xRqPh3W/+Ea8bSlndv8AQ9RY/LMCeAT/AF7dDQB6DRXFeLfFt1/aC+G/Cai41mcYkkH3bVe7E+v8vyFdRo9pc2Gj2trf3jXtxFGFkuHGC59f/rnk9+aALtFFFABXjnha4+J/jHS5tUsPFlhaQC6lhSKWwRmGxiOoWvYz0rw/4a+B7zXfC897B4v17Ska/uF+zWNwEjGHPOMdTUr4vl+qG/h+f6M7mQ+KbHVvCtpe+KNJV3Mo1GGVFSS/xyPKXHYdcYx1OelO8EeI9S1nxR4ws9SnWS30vUBBaqEVdiYPBIHPTqawvFlq1j8TfhnaPcTXTQG4jM87ZeUiJRuY9yeprkNXuL628P8Axbk0xnWX+04ldk6iMth/w2k59s0+bRv1/OP+fyE46xXp+Uv8j2K08d+Fb/Vv7MsvEGnz3hbasKXCksfRT0J9hVnXPFOheGkjbXtVtbDzf9Ws0gDP9B1NeTax4U1S8+HVtDI3gXTNJVIntdRiM0bQkkbXWQ9GJ6nvk5rb1rQNQufHVlq+gan4f1PxBBpSQ3mmaid4ZOplj25ZclupAGD71TVnb+thJ3Vz0vTtSstXsUvNLu4Ly2k+5NBIHVvXkVZrifhlq1jqGm6pa22gQaDeWF88N9a2xVozN3YMoGc/pjFdtQ/IEFFFFIYUUUUAFFFFABRRRQAUUUUAFFFFABRRRQAUUUUAFZfib/kUtX/68Zv/AEWa1KrajZjUdLurJ3KLcwvCWAyVDKRn9aAMnwL/AMiHo/8A16rW/XCafoHjrSdPhsLHV9J+zW6COPfC27aOmeOtWPsHxD/6C+jf9+G/woAPir/yIsv/AF8Q/wDoYrs64HUfCvjDxBbLY65rGm/YjIryfZ4G3/Kc8ZArvqACvOfiNf2/iCaLwnpNmmoaq7hzJ2sx3JbscdR6fgK9DnjM1vJEsjRF0KiRPvLkdR7isTwt4SsvC1nIsDNcXU7bri7lHzynP6D2oA4nwXOngPxFc6D4kt44bi9ffBqfJWcdlLHoM/qefWvVKyfEnhuw8UaS9jqKe8Uqj5om9R/h3qzo+nnStHtbFrmW6NvGEM0x+Z/8/wAqALtFFFABWfomg6b4c082OjW32a3MjSlPMZ/mY5Y5Yk8mtCigDNv/AA9pep6xp2qX1r5t7pjO1pL5jL5ZYYbgHByB3Bplj4Z0fTrjU5rSyVX1aTzL3ezOJmwRyrEgDBPAwK1aKAOJtPg/4HstVS/g0NPMjk8xI3mkeJG9RGWK/hjArS8TfD7w14vuIrnXNOEtzCu1LiKRopAvpuUjI68HPU10lFHkBl+H/DekeFdLGn6BZJZ224uVUlizHqWYkkn3JrUooo3AKKKKACiiigAooooAKKKKACiiigAooooAKKKKACiiigAooooAKKKKACiiigAooooAKKKKACiiigAooooAKKKz9a1zTvD2nm91e4FvBuCA7SxZj0AA5J4P5UAaFFcZ/wALX8Jf8/0v/gO/+Fb2g+JtK8S28k2j3QmETbXUqVZfTIPOPegDVooooAKKKKACiiigAooooAKKKKACiiigAooooAKKKKACiiigAooooAKKbJLHCoaV1RSQoLHAyTgD86dQAUUUUAFFFFABRRRQAUUUUAFFFFABXAfE8B7rwyjgMramgKnkHkV39cD8Tf8Aj98L/wDYUT+YoA7P+ydO/wCfC1/78r/hXgssmv8Ah7x3qGpaNZXSBbybAWBjHIm88HAwVI/+tXp/j/4gReF7drLTys2qyLkKeVgU/wATe/oPxPHWfwl42tvFugzh9sGowwnz7fPUY++vqp/Tv2JANjwx4gg8T6BBqdvG0QfKvG38DDqM9x71r1w/wi/5EGL/AK+JP513FABRRRQBynxKv7rTvAd9PYzPBKSieYhwwBcA4PbivK4vBPj+eFJYoLpkkUMp+3oMgjI/jr0z4r/8k7vP+ukX/oYrqNJ/5Atl/wBe8f8A6CKAPO9Cl+Jui6Wlk2iQ3qxn5JLi6jLAemRJz+NWr7xX8QNKspb7UfDNjHawDdKwuFJC/g5P6Gu71TUrXR9Ln1C/kEdvAm52/kB7k4AHqa4bWvGssukv/wAJB4UuYdDuxt8x7tFmdDzny8hs8jgH8aAO20fUV1fRLPUEQxi6hSXYTnbkZxV2ud8B6jHqng2zmt7ZbaFN0UUSsW2qjFRyeegroqACiiigDlPiVf3WneA76exmeCUlE8xDhgC4Bwe3FeA/2tqP/P8A3X/f5v8AGvdviv8A8k7vP+ukX/oYr5+AycDk0Aek+B/HHiueNdF0y3ttSljUujXcm1go7ZyM/wA/yrQ1f4p+JtA1VrDVtHsY5owrMqsxyCM8EMRWppuiQeBfhwLy5QnVS63ShV+czYOyMDrgKWB9i5rN+Iz6R4p8NW2r2coj1K3QEwOpDlD1Q8dVJz+frQB6Zo+orq+iWeoIhjF1CkuwnO3IzirtYfgr/kRtG/684/8A0GtygAooooAwPGlnpN54WuRr0/2a2jHmLODho3H3Svqc9u9cF4Y8cXXiLR38O3GrSafqZG2zvyAPOx0V+uCfUc/1vfGu21CTSLCaJs2EUp82MDo5HysfbG4e2feuO8D6Taa74e8QWKQpJq4ijnsyfvDZnO09RyQD9RQB011ovxH0iCa4tfESX8sSbpbeOUyOB7K64/qa0PBfxVTV7xNN8Qxx2t05CxTpkJI2fukH7p6ex9uKq+DPEwv9TsbHxZHNaaxZsUtbuRShmXo0T56/j3wevXz3xfYS2/jzUraG1kiaS8cwxbcFgzfLtA7HPFAH0rRVLRoryDQ7KLU5BJeJAizuO74Gf171doAKKKKACiiigAooooAK8/8AinItu/hy4mOyGLUkaRyOFHB5/AH8q9Aqve2FpqVqbfULaK5hY5McqBh+RoA4PxjrHhTX9BvYrLVdNXUZ4kiS4lyCFEgbBYAnHBq1pfiPwhpeiJGup6eL77FHBPLEDmUom0c4BI9M1vf8IV4Z/wCgFYf9+Fo/4Qrwz/0ArD/vwtAGJ8I0Zfh/AWBAaeQr7jOP6Gu3pkEEVtAkNtEkMSDCpGoVVHoAOlPoAKKKKAOb8f6Pd674LvLLTkElwxR0QnG7awJGT3wKwLXxX4ytbOG3HgmVhFGqbvPxnAxnpXodFAHm+tXviPxJ4buFvfDc1lJZTRXSxbt4uVVssnTr0OO9aGs+LvBGraKt1qD2+oGIForR0zLvPG3aeQc8Z6V3FVU0ywjvDdx2VstyesyxKHP/AALGaAKnhmDyPDlov9mx6WWTe1pH0iLHOPrzz71q0UUAFFFFAHN+P9Hu9d8F3llpyCS4Yo6ITjdtYEjJ74FeIr4D8VowZNFu1ZTkEAAg/nX0lRQB5xb+JPGAuoLi+8G3Nw8FuI1C3ARd5+/JjaeTgAeg3cnJp2seJvGWp6RcWNl4OubKa4TyxObkPsB4PG0c4zznjrXotFAGb4csJdL8M6dY3OPOt7ZI5NpyAwUZ/WtKiigAooooAiubaG8tZLe6iWaGRdro4yGFeX6n8Jr7T9UXUfBupi3kVyyRysVMfsGAOR14I6eteq0UAeQ6p4V+I3iWKG01mWz8qF9ySMYxgjjdlV3fl+Vbnh+/Np4mtdG8bWsTazaqV07USMidDxw3r/8AX6Hr6FUbwQyzRSyRI8kJJjdlBKEjBwe2RxQBJRRRQAUUUUAFFFFACM6opZ2CqOpJwKj+1W//AD3i/wC+xUtFAEX2q3/57xf99ij7Vb/894v++xUtFAEX2q3/AOe8X/fYo+1W/wDz3i/77FS0UARfarf/AJ7xf99ij7Vb/wDPeL/vsVLRQBF9qt/+e8X/AH2KPtVv/wA94v8AvsVLRQBF9qt/+e8X/fYo+1W//PeL/vsVLRQBF9qt/wDnvF/32KPtVv8A894v++xUtFAEX2q3/wCe8X/fYo+1W/8Az3i/77FS0UARfarf/nvF/wB9ij7Vb/8APeL/AL7FS0UARfarf/nvF/32KPtVv/z3i/77FS0UARfarf8A57xf99ij7Vb/APPeL/vsVLRQBF9qt/8AnvF/32KPtVv/AM94v++xUtFAEX2q3/57xf8AfYo+1W//AD3i/wC+xUtFAEX2q3/57xf99ij7Vb/894v++xUtFAEX2q3/AOe8X/fYo+1W/wDz3i/77FS0UARfarf/AJ7xf99ij7Vb/wDPeL/vsVLRQBF9qt/+e8X/AH2KkBDKCpBBGQR3paKACiiigAooooAKKKKACivLviB8RtY8PeJjpulpbrHHErM0iFixYZ9eBWdoXxkvYLg/8JNaebbSLmN7WPawI9icEfjxQB7FRXng+NPhwn/jz1Qe/lR//F13Omajb6vpkF/ZMWguE3oSMHH0oAtUUUUAFFFFABRRRQAUUUUAFFFFABRRRQAUUUUAFFFFABRRRQAUUUUAFFFFABRRRQAUUUUAFFFFABRRRQAUUUUAeIeP/wCyh8VpG183H2JIYmdLZQWk+UfLyRgHuf8A9ddf8TLHw9B4RtjfWzwbCIbN7WNSYjtJCkZHy4FZ3xA+HGr+IfEp1PSpLdo5IlVklcqylRj05GMVQ1jwZ8RNftI7XV720uIY33ohdVw2CM/Ko7E0AeVnrx0r6P8Ah5/yT7SP+uJ/9CNeVj4PeKCf+XMe/n//AFq9l8M6S+heGbHTZZFlkt4gruvQt1OPbJoAnvNXsrC/sbO7m8u4v3aO2TYx8xlUsRkDA4BPOKLDV7LU5ryKxm817Gc29wNjLskABxyBnhhyMirtFABRRRQAUUUUAFFFFABRRRQAUUUUAFFFFABRRRQAUUUUAFFFFABRRRQAUUUUAFFFFABRRRQAUUUyOaObd5ThtjFGwfukdjQA+iiigAorz3xr8TpPC+vf2Za6ctyyRq8kkkhXk8gAAelVNA+MtleXTxa/bDT49uUmjLSDPoQBn8RQB6bRXJD4oeDycf2x/wCS03/xFdPaXUF9aRXVpKssEqhkdejD1oAmoqvfahZ6ZaNdaldwWdun3priURov1YnFLaX9nf2a3djdQXNs4ys0MgdGHqGHFAE9FUdO1zSdXeVNJ1SyvmhOJVtrhJDGffaTj8aibxNoKTxQvrenLLNI0UcZu4wzup2lQM8kEEEevFAGnRVGHW9KuNUk0231Ozlv4hmS1S4RpU+qA5H5VFc+JdCspPLvNa063fzTDtlu0U+YMZTBP3uRx15FAGnRWDrWu3OneJvDmnW6QtDqk80czOCWUJCzjaQcDkDrnitC51zSrPUYrC71OzgvJv8AVW0twiySf7qk5P4UAXqKKrahqVjpNqbrVL23srcEAzXMqxoCe2WIFAFmiud8P+JX1vxLr9mjW0llp7W/2aaA58xZIg5JbJB56YxxWnZa9pGpXM1vp2q2N3PB/rooLlHaP/eAOR+NGwF+iud0Lx1oHiPWb/TNJ1CCa4snCkLNGwmG0EvHtYllGcE4GDxWnb67pF3qUmnWuq2U19FnzLWO4RpUx1ygORQBfooooAKKKKACiiigAooooAKKKKACiiigAooooAK8psb7XYPjRqtto0fn2skqm7jkYiNV2j5iecH09elerVXtbC2s5biW3iVJLmTzJnxy7dOT7DigCxRSM6oMuwUepOKha9t1bBlGfYE1y1sZhsP/ABqkY+rS/MpRk9keD/Fr/koNz/1xi/8AQa4qvTPiV4Y1XV/FzX+l2xuoJokG5CBtIGCCDj656c1yf/CCeJf+gVJ/38T/ABqIY/B1FeFWL9JL/MOWS3Rz9fR/w8/5J9pH/XE/+hGvE0+H3ipwCmjTEHoQy4/nXvHhHTLjRvCOnWF6FFxDCBIqnIUkk4z7ZxXYmpK62JMTx5bWlzq/h8vqdpZajDPK9jHqNu0trO+zBVuVAYA5U7s9cA1zQ1fSrXwb4y+16FZu0F1GmoR2F4/2O6kcIN4YY2AZG8AdjnOa9RvtPstUtGtdTs4Ly3b70NxEsiH6ggim22mWFlp/2Gzsra3s8Ffs8USrHg9RtAxR0f8AXb/IfVM8wtZzH8WvCka6joE7va3aNFotv5eyLywVVz5jblyPl4Xofwjt9G0yf4P+M7iawtnne61ORpWiBcsksmw565GBj0r0uz8OaHpzRNp+jafamF2eIwWqJ5bMMMVwOCRwSOoqwumWC2U1mtjbC1nLmaAQrskLkl9y4wdxJznrnmiSureTX3u4R0afmjz/AFfSrDTdN8AS2FnDbyrqlqgkjQBtrxPvBPU7u/rUWhL4WbUPHv8AwkI00uNUk+0fagm4QeUmM55253Y9816PLYWcyW6TWkEi2zrJArxgiJlGAy/3SASARXN6V4Is0vtZuNfsNO1D7Xqj3tqZYRKYlKRr/EvytlD09uab96UvO/4uP+TEtEvK34c3+ZyPhz7X9h+Fn9ob/O3XOPMzu2fZ5Nmc/wCxtrKsLG51LQ/E9vq+qeGbOSS9uRqJ1Kyc3MXzHY+/zV4C7ShAwBjFe0y2drPPBPNbQyS2xLQSPGC0RIwSp7ZBI47VVu9A0e/v4r6+0mxubuHHl3E1sjyJj0YjIol70m+//A/yBaJLtb9f8yXSY3i0WyjluRduluitcDpKQo+f8ev41x/iMWf/AAtrQDr/AJH9n/YLj7H9px5f2venrxu2Zx364rd1LwjaanfyXc2pa1C8mMpa6tcQxjAxwiuAOnYVZj8N6b/Yw0u+hbVLQMWK6o5uyTnPJkyTjt6U27y5hJWjynndre6Jp7fE67sbSG80yJYTJb2T7ElPkfOu5OnzZyR05qsLhY/GfgYQX/hti07rHbaNAVeKEwNwX8w7k6fwrk4NesWul6fYrILKxtrcSKquIYVTcqjCg4HIA4HoKrWvhnQrJlay0TTrcpL5ymK0RNsmCN4wPvYJGevJpdU/T8Aesbev4nF6JNZab4l+IjywKzwypL9nh+WV4/sqkhccjODyO9cpcXsK6f4ImsLrw3axyatZm1sNOiLXMKMcMDMZMtwcN8gyTya9o/syw/tP+0fsVt9u8vyvtXlL5uz+7vxnHtmqsfhjQIZHeHQ9NjeSRZnZbSMFnU5ViccsDyD1Bojo0+1vw/z/AAG9n53/AB/r5mpRRRQAUUUUAFFFFABRRRQAUUUUAFFFFABRRRQAUUUUAZ+q/wDLL8f6VnVo6r/yy/H+lZ1fiXFP/I4rf9u/+kxPSofw0FFcn8QfEt74b0a3l00RiaebZvdd20YJ4HrXBWPxF8UX+o21ol3bq1xKsQYwLgFiBn9a4MNlVfE0vbQaS8/L5FuaTse01KLmcEESvx6sa5jw54jlvZ5NJ1qMWusWw/eR/wAMy/309Qa6KuRuvhJuMZOL8nv2en4D0kiyuoXAbJcMPQqKmXVGA+eIE+xxVCivRo5/mlD4a8vn73/pVyXSg+hqLqkRX5kcH0GDT01G3bOSyfUdfyrIor06fGGaQtzOMvVb/dYzeHgbS3lu5wJR+PH86kWaJ2wsiMT2DCuM8R63/wAI/pIvfs/2jNxDBs37f9ZIqZzg9N2cd8Vq16dPjTGRgp1aMWm+ja2tfv3IeHjeyZ0NFc+rMjZUlSO4NOaWRxh3Zh6E5rrXHNPlbdB3/wAWn32/Qn6s+5vUEgAknAHUmuepskixRPI5wqKWJ9hWf+vLe2H/APJv/tR/VfM3/tEP/PaP/voUhuYACTKnHowrh/C+vXniPT/7Rm0sWNlOqyWbNcB5JkOfmZQMJxg4yevatysqvGeLpScJUY3Xnf8AIaw8XqmbP2+2/wCen/jpo+323/PT/wAdNY1FcX+uuY/yQ+6X/wAkV9WgbP2+2/56f+Omj7fbf89P/HTWNVR9Vs49Yi0p5sXs0LTpFtPKKQCc4x1YcZzVR4zzKW1OH3S/+SD6vDudJ9vtv+en/jpp63UDLkSpj3OK5nUri7tdNmm06y+3XKDMdv5oj8w56bjwPWrQ6c8VcONMcvenTg15XT/N/l+Qvq0ejN37RD/z2j/76FR/b7b/AJ6f+OmuR8R61/wj+iPqH2f7Rslij8vfszvkVM5wem7P4Vq1dTjPHcinClFJ3Wt3tbzXcFho9WazalAGwA7D1AqaCdbiMugIAOOa4Sx8RXep6fc3FhpXnSW+pPZNF9oC5RJNjS5IHQZbb7YzWrofif7Rq2saZ9k2/wBmzRp5nm58zfGr9McYzjqa68u4mxTxT+vtRppO9ltsltd7tf1cmdGKXu7/ANf5HV0Vn/2r/wBMf/H/AP61WLS7+1b/AJNu3HfOa+twufZbjKyoUKl5PZWktlfqrbGEqU4q7RYooor2zIKKKKACiiigDP1X/ll+P9Kzq3J7dLhNsg6dCOorOm06VGJiG9O3qK/LOJ8kxs8ZPGUo80ZW21asktt+h3UakVHlZ5h8Yf8AkB6f/wBfJ/8AQTXlFrcyWd5DdQECWGRZEJGcEHI/lXrPxiRl0OwDKQRcnII6fKa8hqsljbBKMl1f5iqfEdUfF+qa7rultfGESw3KeXLFHsdQWGRkdvavdq+bNGGddsAOv2mP/wBCFfSdeJn9KFJ04wVlZmtJt3ucX420u21nxX4Vsb8SNbyS3PmIkjJvAhztJBBwe479Ko6lo+nal4in0iw0NNWXS7WGEwX18YbWzUqSojUIx3kDlscYHPau4uNNtLu/tL24i33FkXMD7iNhZdrcA4OR61nar4O0HW9QW+1PT1muVUIXEjpvX+64UgOPZsiuChjYwjCMm0oxa07uTd9Gumm6+a3tx3PPrAya94O8Dx6pNLJu1maF2SdtxRBcKBv4Y/KoGeCRWz9mXwp4k8R2/hqDyIhoQvY7WPJTzw0gDBexOBnHXFdXa+FNFsbWxtrSxEUGn3DXNrGsj4ikbdkjnp87cdBnpV4aZaLqz6mIf9MkgFu0m48xhiwGM46k84zWtXMacpSUU+V306ay5l17CjGzv6fn/keYaj4c0e3+HWj6zbhpNQubiwlmvTOxe5d5Yy285+fkk4PAxxjFb8elWXirx34gt/EkIu49OEEdnaSsdiI8e4yhc43FiRu6jbgVrp8OvDLTbo9HBIlE6RrLJsicMG3Im7anIH3QM9Dwa0NX8G6brtylxqWnSPOiGMTRPJC5Q/wlkIJX2PFdH1iVVXhzv4vetqruLstfJrdb/IhRtu+3z33+887mDX/hW206e5nntLbxWlnbT+a3mNCsmAN+cnGSu7OeOtaUnhHRofiVBpcFqYtNu9MkubmxSRhDPIkiKrOmcNw569eCa7w+ELM2FnZLp0cdrYypNbxRtsWN0OVPBHf1696nbw6r6xHqjWubyOBrdJfM6RswYjGcdVHOM8V0unmCvyUKiT5vsvd7P16+XQV4d1/Tb/LQ5PwJAlhceItLtiy2VjqZS2iLFhCjRRuVXPQZYnHbNb2u2NrqWhXlrf28dxA8RLRyLlSRyOPqAaW58I3AW6bRrqfSbi8uBcXE8HlyGRggXpIGAGAvQDp9arWWg6pZzsdU1++1CCRGQwXFtBGpz3ykat+vevOxWFxFOf1mrGUNvijJO6Su72tq/M1hKKemuv6nBWVpBpvwq8LQ6egsIdYuLOPUri3PlsyuvzEsOQWIC5963DpVj4V8e6DbeHIRaRakk6XlpEx8t0RNyylegYNgbup3c11I0HSx4fTRGs4301IRCtvJl12DoOck4wOetQaR4W0fQriS4020KTyIEaaWZ5n2jooZySF9gcVM8fCam23rzadHzbN67x9HsrWIUGkl5L/hzzzTLKLRvhfrPijTYm/tlRfIlwzsxiT7Q4O0E4UDG7gdea0dH8O6pbapo9/pmkWOmjzVN1eR6u8730TKdwcGMeYTkMCTxjiu9sNJsdM082NlbhLUs7GNiXBLsWb7xPUsePes7T/BXh/S72O6stPCSQkmENK7pCT1MaMxVP8AgIFaSzKMvaXv7zdr66PZP3lt89ypQv8AicNq2lwwf2trWpW39rWwuZJV17TL4fa7BVP3AjcAR4IIUnOOVrUutC0e5+MWlXTWNvK82mSXZlaMZeVZI9kh/wBoDoe1dHdeB/Dt7fyXdzpqtJM4klQSusUrj+J4w2xj7kGr2oaBpuqX1leXttuubFt1vKkjIydMjKkZBwMqcg+lJ5jDSzltJP5qy0v37WXkJwbv/XW5kfEj/knerf8AXNf/AENaoXlha+JPiPdaXr6C4srLToZrWykY+XIzs4eQr0YjaAM9M+9T+LfD00uh3+n+HtL8ybWrgPdzm4CrE2UzIwY5xhcYUdulbmr+G9K10wtqdqZJYM+VNHK8UiZ6gOhDAHuM4rKlWp0aMVzPXm1Vrq6jra/k1utNRtNt/wBdTzrVwIfBvirSI7iU6Zp+q20NrI0pJhVnhZkDnnCMTj06dq3r3R7Dwx408OSeH4jbS6jPJBdxpIT9pjETNvcEncVYA7uvPXmukbwtojeH/wCwzp0Q03cGNuMgMQwbJIOTyATnr3zTdL8JaHo2oNe6dYiO4KeWHaR38tOu1AxIRfZcCtHmFNwau/tadJXild673XNs9fvFyP8ArpqcLL/yJ95/2N4/9LFrSs/Dej+IPHXi5dZtxdiOa3CwySHamYF+YKDw3+1144rrD4a0lrN7U2n7l7z7cy+Y/M28PvznP3gDjp7VV1DwP4e1S9uby80/dc3RHnTJPJGzgKF2kqwO3AHy9D6U1mFP3knKN76rdXcX3X8r6lOLbv8A1u/8yt8PLqe68HRfaJ3uVhuJ4IZ5G3NLEkrKjE9/lAGe+K7nSv8Alr+H9ayLS0t7CzitLKFILeFQkcca4VVHQAVr6V/y1/D+td/D1RVc9hOKsm5P/wAlkZVVak0aFFFFfsx54UUUUAFFFFABRRRQBU1PSrHWbM2uqW0dzAWDbHHcd/Y1in4deEz10S3P1Lf410tFJpNWYGBZ+BfDFheR3Vpotqk0R3IxUttPrz3rb+zw/wDPGP8A75FSUVjLD0Z/FBP5Id2R/Z4f+eMf/fIo+zw/88Y/++RUlFT9Uw//AD7X3IfM+5H9nh/54x/98ipAAAABgDoBRRWlOjSpu8IpeisJtvcKKKK1EFFFFABRRRQAUUUUAFFFFABRRRQAUUUUAFNaKNzl0Vj6kZp1FROEKi5Zq68wvYj+zw/88Y/++RR9nh/54x/98ipKKx+qYf8A59r7kVzPuR/Z4f8AnjH/AN8inJGkediKueuBinUVUcPRhLmjBJ+iFdsKKKK3EFFFFABRRRQAUUUUAFFFFABRRRQAUUUUAFFFFABRRRQAUUUUAFFFFABRRRQAUUUUAFFFFABRRRQAUUUUAFFFFABRRRQAUUUUAFFFFABRRRQAUUUUAFFFFABRRRQAUUUUAFFFFABRRRQAUUUUAFFFFABRRRQAUUUUAFFFFABRRRQAUUUUAFFFFABRRRQAUUUUAFFFFAH/2Q==)"
   ]
  },
  {
   "cell_type": "markdown",
   "metadata": {
    "id": "GrBsb_rFzOh7"
   },
   "source": [
    "## Cargamos los datos de febrero 2020 (prueba)"
   ]
  },
  {
   "cell_type": "code",
   "execution_count": null,
   "metadata": {
    "colab": {
     "base_uri": "https://localhost:8080/",
     "height": 270
    },
    "executionInfo": {
     "elapsed": 15026,
     "status": "ok",
     "timestamp": 1656107306703,
     "user": {
      "displayName": "ALONSO ASTROZA TAGLE",
      "userId": "10910938541244248966"
     },
     "user_tz": 240
    },
    "id": "lx0wPotDrujx",
    "outputId": "af89e19f-2791-4dc0-b4c1-66951973aa60"
   },
   "outputs": [
    {
     "ename": "",
     "evalue": "",
     "output_type": "error",
     "traceback": [
      "\u001b[1;31mThe kernel failed to start as a dll could not be loaded.\n",
      "\u001b[1;31mClick <a href='https://aka.ms/kernelFailuresDllLoad'>here</a> for more info."
     ]
    }
   ],
   "source": [
    "taxi_feb = pd.read_parquet('https://d37ci6vzurychx.cloudfront.net/trip-data/yellow_tripdata_2020-02.parquet')\n",
    "taxi_test = preprocess(taxi_feb, target_col=target_col)\n",
    "taxi_test.head()"
   ]
  },
  {
   "cell_type": "markdown",
   "metadata": {
    "id": "k1M966adzTST"
   },
   "source": [
    "## Cargamos el modelo que guardamos y realizamos predicciones de prueba"
   ]
  },
  {
   "cell_type": "code",
   "execution_count": null,
   "metadata": {
    "executionInfo": {
     "elapsed": 241,
     "status": "ok",
     "timestamp": 1656107332416,
     "user": {
      "displayName": "ALONSO ASTROZA TAGLE",
      "userId": "10910938541244248966"
     },
     "user_tz": 240
    },
    "id": "Rn8TC9p0r-c0"
   },
   "outputs": [
    {
     "ename": "",
     "evalue": "",
     "output_type": "error",
     "traceback": [
      "\u001b[1;31mThe kernel failed to start as a dll could not be loaded.\n",
      "\u001b[1;31mClick <a href='https://aka.ms/kernelFailuresDllLoad'>here</a> for more info."
     ]
    }
   ],
   "source": [
    "loaded_rfc = joblib.load(\"./random_forest.joblib\")"
   ]
  },
  {
   "cell_type": "code",
   "execution_count": null,
   "metadata": {
    "colab": {
     "base_uri": "https://localhost:8080/"
    },
    "executionInfo": {
     "elapsed": 60584,
     "status": "ok",
     "timestamp": 1656107529806,
     "user": {
      "displayName": "ALONSO ASTROZA TAGLE",
      "userId": "10910938541244248966"
     },
     "user_tz": 240
    },
    "id": "_BLczfkHsPRW",
    "outputId": "c90033e8-3550-4be1-c03b-a5e466465ba4"
   },
   "outputs": [
    {
     "ename": "",
     "evalue": "",
     "output_type": "error",
     "traceback": [
      "\u001b[1;31mThe kernel failed to start as a dll could not be loaded.\n",
      "\u001b[1;31mClick <a href='https://aka.ms/kernelFailuresDllLoad'>here</a> for more info."
     ]
    }
   ],
   "source": [
    "%%time\n",
    "# Compute F1 \n",
    "# This is (relatively) slow since we are copying data to the CPU to compute the metric.\n",
    "\n",
    "preds_test = loaded_rfc.predict_proba(taxi_test[features])"
   ]
  },
  {
   "cell_type": "code",
   "execution_count": null,
   "metadata": {
    "colab": {
     "base_uri": "https://localhost:8080/"
    },
    "executionInfo": {
     "elapsed": 7564,
     "status": "ok",
     "timestamp": 1656107537367,
     "user": {
      "displayName": "ALONSO ASTROZA TAGLE",
      "userId": "10910938541244248966"
     },
     "user_tz": 240
    },
    "id": "WIwher-5sMKL",
    "outputId": "fd5a3725-89d1-4d51-827c-367294c4e83a"
   },
   "outputs": [
    {
     "ename": "",
     "evalue": "",
     "output_type": "error",
     "traceback": [
      "\u001b[1;31mThe kernel failed to start as a dll could not be loaded.\n",
      "\u001b[1;31mClick <a href='https://aka.ms/kernelFailuresDllLoad'>here</a> for more info."
     ]
    }
   ],
   "source": [
    "preds_test_labels = [p[1] for p in preds_test.round()]\n",
    "print(f'F1: {f1_score(taxi_test[target_col], preds_test_labels)}')"
   ]
  },
  {
   "cell_type": "markdown",
   "metadata": {
    "id": "yI0rJItCzZh0"
   },
   "source": [
    "## Intentemos realizar la predicción de un solo viaje\n",
    "\n",
    "Necesitaremos hacer algo así más adelante"
   ]
  },
  {
   "cell_type": "code",
   "execution_count": null,
   "metadata": {
    "colab": {
     "base_uri": "https://localhost:8080/"
    },
    "executionInfo": {
     "elapsed": 290,
     "status": "ok",
     "timestamp": 1656107590915,
     "user": {
      "displayName": "ALONSO ASTROZA TAGLE",
      "userId": "10910938541244248966"
     },
     "user_tz": 240
    },
    "id": "8LFWx_phs0rY",
    "outputId": "32482a28-d87c-4f8a-9de7-14df683ee854"
   },
   "outputs": [
    {
     "ename": "",
     "evalue": "",
     "output_type": "error",
     "traceback": [
      "\u001b[1;31mThe kernel failed to start as a dll could not be loaded.\n",
      "\u001b[1;31mClick <a href='https://aka.ms/kernelFailuresDllLoad'>here</a> for more info."
     ]
    }
   ],
   "source": [
    "taxi_test.head(1)[features].iloc[0].values"
   ]
  },
  {
   "cell_type": "code",
   "execution_count": null,
   "metadata": {
    "colab": {
     "base_uri": "https://localhost:8080/"
    },
    "executionInfo": {
     "elapsed": 379,
     "status": "ok",
     "timestamp": 1656107765382,
     "user": {
      "displayName": "ALONSO ASTROZA TAGLE",
      "userId": "10910938541244248966"
     },
     "user_tz": 240
    },
    "id": "L9GeIjP0trrf",
    "outputId": "dcca1443-5a0a-4c57-e6f6-39b974fb4c76"
   },
   "outputs": [
    {
     "ename": "",
     "evalue": "",
     "output_type": "error",
     "traceback": [
      "\u001b[1;31mThe kernel failed to start as a dll could not be loaded.\n",
      "\u001b[1;31mClick <a href='https://aka.ms/kernelFailuresDllLoad'>here</a> for more info."
     ]
    }
   ],
   "source": [
    "taxi_test.head(1)[target_col].iloc[0]"
   ]
  },
  {
   "cell_type": "code",
   "execution_count": null,
   "metadata": {
    "colab": {
     "base_uri": "https://localhost:8080/"
    },
    "executionInfo": {
     "elapsed": 4,
     "status": "ok",
     "timestamp": 1656107729819,
     "user": {
      "displayName": "ALONSO ASTROZA TAGLE",
      "userId": "10910938541244248966"
     },
     "user_tz": 240
    },
    "id": "elAjln9htdaI",
    "outputId": "ed3addd4-a15e-4720-e546-ff61cf6b82a2"
   },
   "outputs": [
    {
     "ename": "",
     "evalue": "",
     "output_type": "error",
     "traceback": [
      "\u001b[1;31mThe kernel failed to start as a dll could not be loaded.\n",
      "\u001b[1;31mClick <a href='https://aka.ms/kernelFailuresDllLoad'>here</a> for more info."
     ]
    }
   ],
   "source": [
    "loaded_rfc.predict_proba(taxi_test.head(1)[features].iloc[0].values.reshape(1, -1))[0][1]"
   ]
  },
  {
   "cell_type": "markdown",
   "metadata": {
    "id": "ilITXyKb0QJg"
   },
   "source": [
    "## Motivación: calculemos el desempeño para mayo de 2020"
   ]
  },
  {
   "cell_type": "code",
   "execution_count": null,
   "metadata": {
    "colab": {
     "base_uri": "https://localhost:8080/"
    },
    "executionInfo": {
     "elapsed": 4083,
     "status": "ok",
     "timestamp": 1656109500051,
     "user": {
      "displayName": "ALONSO ASTROZA TAGLE",
      "userId": "10910938541244248966"
     },
     "user_tz": 240
    },
    "id": "AajcXx6nzx1v",
    "outputId": "d4a23e65-fbeb-47d1-d21e-5e9924df3a1d"
   },
   "outputs": [
    {
     "ename": "",
     "evalue": "",
     "output_type": "error",
     "traceback": [
      "\u001b[1;31mThe kernel failed to start as a dll could not be loaded.\n",
      "\u001b[1;31mClick <a href='https://aka.ms/kernelFailuresDllLoad'>here</a> for more info."
     ]
    }
   ],
   "source": [
    "taxi_may= pd.read_parquet('https://d37ci6vzurychx.cloudfront.net/trip-data/yellow_tripdata_2020-04.parquet')\n",
    "taxi_test = preprocess(taxi_may, target_col=target_col)\n",
    "taxi_test.head()\n",
    "\n",
    "preds_test = loaded_rfc.predict_proba(taxi_test[features])\n",
    "preds_test_labels = [p[1] for p in preds_test.round()]\n",
    "print(f'F1: {f1_score(taxi_test[target_col], preds_test_labels)}')\n"
   ]
  }
 ],
 "metadata": {
  "colab": {
   "authorship_tag": "ABX9TyO3x3/ogHXPdlMFV6ltWWqw",
   "collapsed_sections": [],
   "name": "nyc-taxi-model.ipynb",
   "provenance": []
  },
  "kernelspec": {
   "display_name": "Python 3 (ipykernel)",
   "language": "python",
   "name": "python3"
  },
  "language_info": {
   "codemirror_mode": {
    "name": "ipython",
    "version": 3
   },
   "file_extension": ".py",
   "mimetype": "text/x-python",
   "name": "python",
   "nbconvert_exporter": "python",
   "pygments_lexer": "ipython3",
   "version": "3.11.5"
  },
  "vscode": {
   "interpreter": {
    "hash": "99a9b5da19698e75c7c6310b84acfed9a2fc917eb841b0458f82e0ab29f2b106"
   }
  }
 },
 "nbformat": 4,
 "nbformat_minor": 4
}
